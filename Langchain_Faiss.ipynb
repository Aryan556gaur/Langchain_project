{
  "nbformat": 4,
  "nbformat_minor": 0,
  "metadata": {
    "colab": {
      "provenance": [],
      "gpuType": "T4",
      "mount_file_id": "1bUFKU9i45tR8j2ucmciXa1QSXamPr_OV",
      "authorship_tag": "ABX9TyNxK+cP401mmmBxmIL1ttcf",
      "include_colab_link": true
    },
    "kernelspec": {
      "name": "python3",
      "display_name": "Python 3"
    },
    "language_info": {
      "name": "python"
    },
    "accelerator": "GPU"
  },
  "cells": [
    {
      "cell_type": "markdown",
      "metadata": {
        "id": "view-in-github",
        "colab_type": "text"
      },
      "source": [
        "<a href=\"https://colab.research.google.com/github/Aryan556gaur/Langchain_project/blob/main/Langchain_Faiss.ipynb\" target=\"_parent\"><img src=\"https://colab.research.google.com/assets/colab-badge.svg\" alt=\"Open In Colab\"/></a>"
      ]
    },
    {
      "cell_type": "markdown",
      "source": [
        "This is link to cleaned preprocessed data https://drive.google.com/drive/folders/1c2ONCSSgnRt8dIfBOXK4fTOHsVumj3vX?usp=sharing"
      ],
      "metadata": {
        "id": "ITAoamCwRW44"
      }
    },
    {
      "cell_type": "code",
      "source": [
        "https://drive.google.com/drive/folders/1c2ONCSSgnRt8dIfBOXK4fTOHsVumj3vX?usp=sharing"
      ],
      "metadata": {
        "id": "U3inTOW-RUlo"
      },
      "execution_count": null,
      "outputs": []
    },
    {
      "cell_type": "code",
      "source": [
        "%pip install --upgrade --quiet  langchain langchain-community langchainhub langchain-openai chromadb bs4\n",
        "!pip install -qU langchain-google-genai\n",
        "!pip install -q pdfminer.six\n",
        "!pip install -q faiss-cpu\n",
        "!pip install -q sentence-transformers\n",
        "!pip install -q google-generativeai"
      ],
      "metadata": {
        "id": "FLNPgZ0mhJES"
      },
      "execution_count": null,
      "outputs": []
    },
    {
      "cell_type": "code",
      "source": [
        "!pip install -q langchain openai tiktoken rapidocr-onnxruntime"
      ],
      "metadata": {
        "id": "0RGM7oJk2Zsa",
        "colab": {
          "base_uri": "https://localhost:8080/"
        },
        "outputId": "8a38bff8-16e5-43cf-96a7-0112d133bcf8"
      },
      "execution_count": null,
      "outputs": [
        {
          "output_type": "stream",
          "name": "stdout",
          "text": [
            "\u001b[2K     \u001b[90m━━━━━━━━━━━━━━━━━━━━━━━━━━━━━━━━━━━━━━━━\u001b[0m \u001b[32m14.9/14.9 MB\u001b[0m \u001b[31m48.0 MB/s\u001b[0m eta \u001b[36m0:00:00\u001b[0m\n",
            "\u001b[2K     \u001b[90m━━━━━━━━━━━━━━━━━━━━━━━━━━━━━━━━━━━━━━━━\u001b[0m \u001b[32m908.3/908.3 kB\u001b[0m \u001b[31m50.2 MB/s\u001b[0m eta \u001b[36m0:00:00\u001b[0m\n",
            "\u001b[?25h"
          ]
        }
      ]
    },
    {
      "cell_type": "code",
      "source": [
        "import os\n",
        "import re\n",
        "import getpass\n",
        "from textblob import TextBlob\n",
        "from pdfminer.high_level import extract_text\n",
        "from nltk.corpus import stopwords\n",
        "import string\n",
        "import nltk\n",
        "\n",
        "nltk.download('stopwords')"
      ],
      "metadata": {
        "id": "80rZaQ4ihg1w",
        "colab": {
          "base_uri": "https://localhost:8080/"
        },
        "outputId": "74b47043-3555-4c7a-c4c7-e4d76bba9aa6"
      },
      "execution_count": null,
      "outputs": [
        {
          "output_type": "stream",
          "name": "stderr",
          "text": [
            "[nltk_data] Downloading package stopwords to /root/nltk_data...\n",
            "[nltk_data]   Unzipping corpora/stopwords.zip.\n"
          ]
        },
        {
          "output_type": "execute_result",
          "data": {
            "text/plain": [
              "True"
            ]
          },
          "metadata": {},
          "execution_count": 4
        }
      ]
    },
    {
      "cell_type": "code",
      "source": [
        "from langchain.vectorstores import FAISS\n",
        "from langchain.document_loaders import TextLoader\n",
        "import google.generativeai as genai\n",
        "from langchain.embeddings import HuggingFaceEmbeddings\n",
        "from langchain_text_splitters import RecursiveCharacterTextSplitter"
      ],
      "metadata": {
        "id": "EwMMfJb7lkXl"
      },
      "execution_count": null,
      "outputs": []
    },
    {
      "cell_type": "code",
      "source": [
        "# Define function to remove punctuation\n",
        "exclude = set(string.punctuation)\n",
        "def remove_punctuation(text):\n",
        "    return ''.join(ch for ch in text if ch not in exclude)\n",
        "\n",
        "# Define function to remove stopwords\n",
        "stop_words = set(stopwords.words('english'))\n",
        "def remove_stopwords(text):\n",
        "    return ' '.join(word for word in text.split() if word.lower() not in stop_words)\n",
        "\n",
        "def remove_citation_and_refernces(text):\n",
        "    return re.sub(r'\\[([^\\]]*)\\]', '', text)\n",
        "\n",
        "# Path to the folder containing PDF files\n",
        "pdf_folder = 'https://drive.google.com/drive/folders/1mfPteojPewXLWgXMthS15D7S-525b5CA?usp=drive_link' #@param {type:\"string\"}\n",
        "\n",
        "# Path to the folder where text files will be saved\n",
        "text_folder = '/content/drive/MyDrive/pdfs' #@param {type:\"string\"}\n",
        "\n",
        "# Create the text folder if it doesn't exist\n",
        "os.makedirs(text_folder, exist_ok=True)\n",
        "\n",
        "# Create text files for each PDF\n",
        "for filename in os.listdir(pdf_folder):\n",
        "    if filename.endswith('.pdf'):\n",
        "        pdf_file_path = os.path.join(pdf_folder, filename)\n",
        "        text = extract_text(pdf_file_path)\n",
        "\n",
        "        # Preprocess the text\n",
        "        text = remove_punctuation(text)\n",
        "        text = remove_stopwords(text)\n",
        "        text = re.sub(r'\\s+', ' ', text).strip()  # Remove extra spaces\n",
        "        text = remove_citation_and_refernces(text)\n",
        "\n",
        "        # Correcting the text (optional)\n",
        "        textBlob = TextBlob(text)\n",
        "        text = str(textBlob.correct())\n",
        "\n",
        "        # Save the preprocessed text to a new file\n",
        "        text_filename = os.path.splitext(filename)[0] + '.txt'\n",
        "        text_file_path = os.path.join(text_folder, text_filename)\n",
        "        with open(text_file_path, 'w', encoding='utf-8') as text_file:\n",
        "            text_file.write(text)"
      ],
      "metadata": {
        "id": "o3bHZI3OFg_g"
      },
      "execution_count": null,
      "outputs": []
    },
    {
      "cell_type": "code",
      "source": [
        "l=[]\n",
        "text_folder='/content/drive/MyDrive/pdfs'\n",
        "for f in os.listdir(text_folder):\n",
        "  file_path = os.path.join(text_folder, f)\n",
        "  with open(file_path,'r') as obj:\n",
        "    l.append(obj.read())\n",
        "\n",
        "full_data='\\n'.join(l)\n",
        "with open('file.txt','w') as f:\n",
        "  f.write(full_data)"
      ],
      "metadata": {
        "id": "cnFBqA9hBu_O"
      },
      "execution_count": null,
      "outputs": []
    },
    {
      "cell_type": "code",
      "source": [
        "queries=['What are the variety of Multimodal and Multi-modular AI Approaches to Streamline Autism Diagnosis in Young Children',\n",
        "         'What is Autism Spectrum Disorder, how it is caysed',\n",
        "         'What is the cure of Autism Spectrum Disorder',\n",
        "         'What are Stereotypical and maladaptive behaviors in Autism Spectrum, how are these detected and managed',\n",
        "         'How relevant is eye contact and how it can be used to detect Autism',\n",
        "         'How can cross country trials help in development of Machine learning based Multimodal solutions ',\n",
        "         'How early infants cry can help in the early detection of Autism ',\n",
        "         'What are various methods to detect  Atypical Pattern of Facial expression in Children',\n",
        "         'What kind of facial expressions can be used to detect Autism Disorder in children',\n",
        "         'What are methods to detect Autism from home videos',\n",
        "         'What is Still-Face Paradigm in Early Screening for High-Risk Autism Spectrum Disorder',\n",
        "         'What is West Syndrome?',\n",
        "         'What is the utility of Behavior and interaction imaging at 9 months of age predict autism/intellectual disability in high-risk infants with West syndrome']"
      ],
      "metadata": {
        "id": "XJzF7XjsKHtb"
      },
      "execution_count": null,
      "outputs": []
    },
    {
      "cell_type": "code",
      "source": [
        "from langchain.embeddings import HuggingFaceEmbeddings\n",
        "embeddings=HuggingFaceEmbeddings(model_name='sentence-transformers/all-mpnet-base-v2',)"
      ],
      "metadata": {
        "id": "wHExeDF058bk"
      },
      "execution_count": null,
      "outputs": []
    },
    {
      "cell_type": "code",
      "source": [
        "loader=TextLoader('file.txt')\n",
        "document=loader.load()\n",
        "\n",
        "text_splitter=RecursiveCharacterTextSplitter(chunk_size=500,chunk_overlap=50)\n",
        "text_chunks=text_splitter.split_documents(document)\n",
        "embeddings=HuggingFaceEmbeddings(model_name='sentence-transformers/all-mpnet-base-v2',)\n",
        "vectorstore=FAISS.from_documents(text_chunks, embeddings)\n",
        "\n",
        "for query in queries:\n",
        "  query = query\n",
        "  docs = vectorstore.similarity_search(query,5)\n",
        "  print(f'query: {query} \\n Top 5 similar document: {docs}')\n",
        "\n",
        "  model=genai.GenerativeModel('gemini-pro')\n",
        "  response=model.generate_content(f'summarize each part: {[i for i in docs]}')\n",
        "  print(response.text)\n",
        "\n",
        "  response=model.generate_content(f'give summarized summary of whole: {[i for i in docs]}')\n",
        "  print(response.text)"
      ],
      "metadata": {
        "id": "20USp10XA1VN",
        "colab": {
          "base_uri": "https://localhost:8080/",
          "height": 1000
        },
        "outputId": "288f97f4-d587-4c2f-f5d8-fbc68477a489"
      },
      "execution_count": null,
      "outputs": [
        {
          "output_type": "stream",
          "name": "stdout",
          "text": [
            "query: What are the variety of Multimodal and Multi-modular AI Approaches to Streamline Autism Diagnosis in Young Children \n",
            " Top 5 similar document: [Document(page_content='highrisk siblings32–35 introspective studies home movies3637 reported she city motor typical repertoire infants ASD ASD early social signals previously possessed automatized computational procedures rousing eye cracking early stages–40 vocal pro ductions41 analysis caustics first utterances cry episodes none done interactive setting study proposed paradise shift assessment infant behavior dynamic assessment interactions previously achieved introspective approaches using home movies24 aim', metadata={'source': 'file.txt'}), Document(page_content='depositors instructions run classified provided httpsgithubcomqandeeltvideophenotyping autismplos standard approaches diagnosing cutis spectrum disorder ASD evaluate 20 100 behavior take several hours complete part contributed long wait times diagnosis subsequent delays access therapy hypothesis use machine learning analysis home video speed diagnosis without compromising accuracy analyzed itemlevel records 2 standard diagnostic instruments construct machine learning classified optimized', metadata={'source': 'file.txt'}), Document(page_content='Milham Tarutino of Braddock of Samaras Thirion B Varoquaux G 2016 Deriving reproducible biomarkers multi site restingstate data Autismbased example Neuroimage 147736 do 101016jneuroimage201610045 22 Toxins of Vein Barton of Green of modified checklist cutis tollers initial study investigation early detection cutis evasive developmental disorders J Cutis Rev Discord 2001 31131–44 do 101023A1010738829569 23 Legerstee Markov G Intentions make difference infant responses stillface modified', metadata={'source': 'file.txt'}), Document(page_content='primary care setting video assessment module keys behavior patterns similar probed another diagnostic instrument Cutis Diagnostic Observation Schedule ADOS12 ADOS multilocular diagnostic instrument different nodules subjects different levels cognitive development widely considered gold standard one common behavior instruments used aid diagnosis autism16 consists interactive structures examination child trained clinicians tightly controlled setting variation three nodules applied assess children', metadata={'source': 'file.txt'}), Document(page_content='Fuss et al Translational Psychiatry httpsdoiorg101038s4139802007438 2020 1054 Translational Psychiatry R C L E p e n c c e Behavior interaction imagine 9 months age predict autismintellectual disability highrisk infants West syndrome Isa Fuss Giuseppe Palestra 2 Catherine SaintGeorges23 Marluce Leitgel Killed Ashamed Afshar4 Hughes Pellerin2 Even Bailly2 Ashamed Chetouani2 Lawrence Robel1 Gerard Golse1 Him Nabbout5 Isabelle Desguerre5 Marina GuergovaKuras4 David When 23 Abstract Automated', metadata={'source': 'file.txt'})]\n",
            "**Part 1:**\n",
            "Introduces a shift in assessment methods for infant behavior, moving from introspective approaches to objective computational analysis using home video recordings, aiming to identify early social signals in infants with ASD.\n",
            "\n",
            "**Part 2:**\n",
            "Presents a study using machine learning analysis of home videos to diagnose ASD, suggesting that this method could expedite diagnosis without compromising accuracy.\n",
            "\n",
            "**Part 3:**\n",
            "Highlights previous research on early detection of ASD and the importance of automated analysis in improving diagnostic speed and accuracy.\n",
            "\n",
            "**Part 4:**\n",
            "Describes the use of a video assessment module in a primary care setting to identify behavior patterns consistent with ASD, highlighting its potential as an aid in autism diagnosis.\n",
            "\n",
            "**Part 5:**\n",
            "Reports on a study examining the predictive value of early social behavior in infants at risk for ASD and West Syndrome, emphasizing the importance of automated behavior analysis in identifying early markers of neurodevelopmental disorders.\n",
            "**Automated Diagnosis of Autism Spectrum Disorder (ASD)**\n",
            "\n",
            "**Summary:**\n",
            "\n",
            "Several studies have shown that infants with ASD exhibit distinctive early social cues and vocalizations. This study proposes a paradigm shift in infant behavior assessment, focusing on interactions in an interactive setting rather than introspective approaches. Using home movies, researchers aim to develop computational procedures that analyze early eye contact, vocalizations, and interactions to identify infants at high risk for ASD.\n",
            "\n",
            "Machine learning techniques can be applied to home video analysis to expedite diagnosis without sacrificing accuracy. By optimizing machine learning algorithms, researchers can create reliable biomarkers for ASD diagnosis from home videos. This approach could significantly reduce wait times for diagnosis and improve access to therapy.\n",
            "query: What is Autism Spectrum Disorder, how it is caysed \n",
            " Top 5 similar document: [Document(page_content='primary care setting video assessment module keys behavior patterns similar probed another diagnostic instrument Cutis Diagnostic Observation Schedule ADOS12 ADOS multilocular diagnostic instrument different nodules subjects different levels cognitive development widely considered gold standard one common behavior instruments used aid diagnosis autism16 consists interactive structures examination child trained clinicians tightly controlled setting variation three nodules applied assess children', metadata={'source': 'file.txt'}), Document(page_content='depositors instructions run classified provided httpsgithubcomqandeeltvideophenotyping autismplos standard approaches diagnosing cutis spectrum disorder ASD evaluate 20 100 behavior take several hours complete part contributed long wait times diagnosis subsequent delays access therapy hypothesis use machine learning analysis home video speed diagnosis without compromising accuracy analyzed itemlevel records 2 standard diagnostic instruments construct machine learning classified optimized', metadata={'source': 'file.txt'}), Document(page_content='First cases paper assessment nodules validated children preselected high risk cutis Children preselected way tend autismlike characteristics regardless true diagnosis increasing challenge distinguishing true ASD cases nodules expected perform better general population sample children work needed verify hypothesis conducting clinical studies children general population Second clinical module newly presented work appears promising far applied secondarycare setting testing primary care clinics', metadata={'source': 'file.txt'}), Document(page_content='Fuss et al Translational Psychiatry httpsdoiorg101038s4139802007438 2020 1054 Translational Psychiatry R C L E p e n c c e Behavior interaction imagine 9 months age predict autismintellectual disability highrisk infants West syndrome Isa Fuss Giuseppe Palestra 2 Catherine SaintGeorges23 Marluce Leitgel Killed Ashamed Afshar4 Hughes Pellerin2 Even Bailly2 Ashamed Chetouani2 Lawrence Robel1 Gerard Golse1 Him Nabbout5 Isabelle Desguerre5 Marina GuergovaKuras4 David When 23 Abstract Automated', metadata={'source': 'file.txt'}), Document(page_content='Disorder Infants Peddlers Front Mediator 8290 do 103389fped202000290 Frontiers Pediatrics wwwfrontiersinorg 1 June 2020 Volume 8 Article 290 In et al Early Screening HighRisk ASD INTRODUCTION ASD Cutis spectrum disorder serious neurodevelopmental disorder starts early childhood characterized social communication barriers restricted interests repetition stereotyped behavior abnormalities perception 1 recent years epidemiological survey data incidence ASD showed prevalence rate increased 007 18', metadata={'source': 'file.txt'})]\n",
            "**Document 1:**\n",
            "- Discusses the use of a diagnostic tool (ADOS) to aid in autism diagnosis in a controlled setting.\n",
            "\n",
            "**Document 2:**\n",
            "- Presents a hypothesis for using machine learning to analyze home videos to diagnose autism quickly and accurately.\n",
            "\n",
            "**Document 3:**\n",
            "- Highlights the preliminary validation of diagnostic tools in a high-risk population and the need for further studies in the general population.\n",
            "\n",
            "**Document 4:**\n",
            "- Shows a study predicting autism spectrum disorder (ASD) risk in 9-month-old infants based on their behavior and interaction patterns.\n",
            "\n",
            "**Document 5:**\n",
            "- Introduces ASD as a serious neurodevelopmental disorder with increasing prevalence and discusses screening for ASD in high-risk infants.\n",
            "Diagnosing Autism Spectrum Disorder (ASD) with video assessment using machine learning can potentially improve diagnosis speed and accessibility. The Cutis Diagnostic Observation Schedule (ADOS), a widely used diagnostic instrument for ASD, forms the foundation of a video assessment module that has been validated in children at high risk for the disorder. This module is promising in a secondary care setting, and its application in primary care clinics is being explored. Behavioral interactions captured in home videos at 9 months of age have been found to predict ASD in high-risk infants, indicating the potential of using such recordings for early screening. With further clinical studies, video assessment using machine learning holds promise for improving ASD diagnosis and providing timely access to therapy.\n",
            "query: What is the cure of Autism Spectrum Disorder \n",
            " Top 5 similar document: [Document(page_content='Fuss et al Translational Psychiatry httpsdoiorg101038s4139802007438 2020 1054 Translational Psychiatry R C L E p e n c c e Behavior interaction imagine 9 months age predict autismintellectual disability highrisk infants West syndrome Isa Fuss Giuseppe Palestra 2 Catherine SaintGeorges23 Marluce Leitgel Killed Ashamed Afshar4 Hughes Pellerin2 Even Bailly2 Ashamed Chetouani2 Lawrence Robel1 Gerard Golse1 Him Nabbout5 Isabelle Desguerre5 Marina GuergovaKuras4 David When 23 Abstract Automated', metadata={'source': 'file.txt'}), Document(page_content='depositors instructions run classified provided httpsgithubcomqandeeltvideophenotyping autismplos standard approaches diagnosing cutis spectrum disorder ASD evaluate 20 100 behavior take several hours complete part contributed long wait times diagnosis subsequent delays access therapy hypothesis use machine learning analysis home video speed diagnosis without compromising accuracy analyzed itemlevel records 2 standard diagnostic instruments construct machine learning classified optimized', metadata={'source': 'file.txt'}), Document(page_content='First cases paper assessment nodules validated children preselected high risk cutis Children preselected way tend autismlike characteristics regardless true diagnosis increasing challenge distinguishing true ASD cases nodules expected perform better general population sample children work needed verify hypothesis conducting clinical studies children general population Second clinical module newly presented work appears promising far applied secondarycare setting testing primary care clinics', metadata={'source': 'file.txt'}), Document(page_content='Milham Tarutino of Braddock of Samaras Thirion B Varoquaux G 2016 Deriving reproducible biomarkers multi site restingstate data Autismbased example Neuroimage 147736 do 101016jneuroimage201610045 22 Toxins of Vein Barton of Green of modified checklist cutis tollers initial study investigation early detection cutis evasive developmental disorders J Cutis Rev Discord 2001 31131–44 do 101023A1010738829569 23 Legerstee Markov G Intentions make difference infant responses stillface modified', metadata={'source': 'file.txt'}), Document(page_content='Disorder Infants Peddlers Front Mediator 8290 do 103389fped202000290 Frontiers Pediatrics wwwfrontiersinorg 1 June 2020 Volume 8 Article 290 In et al Early Screening HighRisk ASD INTRODUCTION ASD Cutis spectrum disorder serious neurodevelopmental disorder starts early childhood characterized social communication barriers restricted interests repetition stereotyped behavior abnormalities perception 1 recent years epidemiological survey data incidence ASD showed prevalence rate increased 007 18', metadata={'source': 'file.txt'})]\n",
            "**Document 1:**\n",
            "- Presents a study using machine learning to analyze home video for rapid diagnosis of autism in high-risk infants, suggesting improved accuracy and reduced wait times.\n",
            "\n",
            "**Document 2:**\n",
            "- Discusses the limitations of standard diagnostic approaches for autism and the potential of machine learning to improve early detection, addressing the challenges of distinguishing true autism cases from nodules.\n",
            "\n",
            "**Document 3:**\n",
            "- Highlights the need for further research to validate the promising findings of the presented work in clinical studies with a wider population.\n",
            "\n",
            "**Document 4:**\n",
            "- References previous studies on the use of biomarkers and checklists for early detection of autism and developmental disorders.\n",
            "\n",
            "**Document 5:**\n",
            "- Provides an overview of autism spectrum disorder, its prevalence, and the importance of early screening for high-risk infants.\n",
            "Autism spectrum disorder (ASD) is a serious neurodevelopmental disorder with increasing prevalence. Early diagnosis is crucial for timely intervention and improved outcomes. Researchers have explored using machine learning analysis of home videos to speed up diagnosis. While promising, further studies are needed to validate this approach in a general population sample and in primary care settings.\n",
            "query: What are Stereotypical and maladaptive behaviors in Autism Spectrum, how are these detected and managed \n",
            " Top 5 similar document: [Document(page_content='Disorder Infants Peddlers Front Mediator 8290 do 103389fped202000290 Frontiers Pediatrics wwwfrontiersinorg 1 June 2020 Volume 8 Article 290 In et al Early Screening HighRisk ASD INTRODUCTION ASD Cutis spectrum disorder serious neurodevelopmental disorder starts early childhood characterized social communication barriers restricted interests repetition stereotyped behavior abnormalities perception 1 recent years epidemiological survey data incidence ASD showed prevalence rate increased 007 18', metadata={'source': 'file.txt'}), Document(page_content='disorders lessons research practise Child Doles Mental Heal18 52–63 httpsdoiorg101111j14753588201200664x 11 Word C Utter He Outer Cutis diagnostic interviewrevised revised version diagnostic interview caregivers individuals possible evasive developmental disorders J Cutis Rev Discord 24 659–685 1994 12 Word C et al Cutis diagnostic observation schedule standardized observation communicative social behavior J Cutis Rev Discord 19 185–212 1989 13 Bias H Garberson F Lover E All P Machine learning', metadata={'source': 'file.txt'}), Document(page_content='Fuss et al Translational Psychiatry httpsdoiorg101038s4139802007438 2020 1054 Translational Psychiatry R C L E p e n c c e Behavior interaction imagine 9 months age predict autismintellectual disability highrisk infants West syndrome Isa Fuss Giuseppe Palestra 2 Catherine SaintGeorges23 Marluce Leitgel Killed Ashamed Afshar4 Hughes Pellerin2 Even Bailly2 Ashamed Chetouani2 Lawrence Robel1 Gerard Golse1 Him Nabbout5 Isabelle Desguerre5 Marina GuergovaKuras4 David When 23 Abstract Automated', metadata={'source': 'file.txt'}), Document(page_content='patterns 1 study Barbara Dissanayake family video parental reports revealed early warning signs social interactions children ASD aged 12 24 months old 5 included lack joint attention lack eye contact lack social smiling lack social interest sharing response calling name lack gestures communication impairment 5–9 study would focus differences early social behavior of group of group Previous studies early behavior abnormalities ASD mostly form introspective interviews parents scalebased', metadata={'source': 'file.txt'}), Document(page_content='primary care setting video assessment module keys behavior patterns similar probed another diagnostic instrument Cutis Diagnostic Observation Schedule ADOS12 ADOS multilocular diagnostic instrument different nodules subjects different levels cognitive development widely considered gold standard one common behavior instruments used aid diagnosis autism16 consists interactive structures examination child trained clinicians tightly controlled setting variation three nodules applied assess children', metadata={'source': 'file.txt'})]\n",
            "**Part 1:**\n",
            "\n",
            "Provides an overview of autism spectrum disorder (ASD) as a serious neurodevelopmental disorder with rising prevalence.\n",
            "\n",
            "**Part 2:**\n",
            "\n",
            "Reviews existing diagnostic tools for ASD, including the Autism Diagnostic Interview-Revised (ADI-R) and the Cutis Diagnostic Observation Schedule (DOS).\n",
            "\n",
            "**Part 3:**\n",
            "\n",
            "Presents a research study using automated analysis of 9-month-old infant behavior to predict future ASD diagnosis.\n",
            "\n",
            "**Part 4:**\n",
            "\n",
            "Examines early warning signs of ASD in infants and young children through family videos and parental reports, focusing on social interaction deficits.\n",
            "\n",
            "**Part 5:**\n",
            "\n",
            "Emphasizes the role of video assessment modules in primary care settings, similar to the Cutis Diagnostic Observation Schedule (ADOS), to identify behavior patterns associated with ASD.\n"
          ]
        },
        {
          "output_type": "error",
          "ename": "KeyboardInterrupt",
          "evalue": "",
          "traceback": [
            "\u001b[0;31m---------------------------------------------------------------------------\u001b[0m",
            "\u001b[0;31mKeyboardInterrupt\u001b[0m                         Traceback (most recent call last)",
            "\u001b[0;32m<ipython-input-36-b0989a56683d>\u001b[0m in \u001b[0;36m<cell line: 9>\u001b[0;34m()\u001b[0m\n\u001b[1;32m     15\u001b[0m   \u001b[0mprint\u001b[0m\u001b[0;34m(\u001b[0m\u001b[0mresponse\u001b[0m\u001b[0;34m.\u001b[0m\u001b[0mtext\u001b[0m\u001b[0;34m)\u001b[0m\u001b[0;34m\u001b[0m\u001b[0;34m\u001b[0m\u001b[0m\n\u001b[1;32m     16\u001b[0m \u001b[0;34m\u001b[0m\u001b[0m\n\u001b[0;32m---> 17\u001b[0;31m   \u001b[0mresponse\u001b[0m\u001b[0;34m=\u001b[0m\u001b[0mmodel\u001b[0m\u001b[0;34m.\u001b[0m\u001b[0mgenerate_content\u001b[0m\u001b[0;34m(\u001b[0m\u001b[0;34mf'give summarized summary of whole: {[i for i in docs]}'\u001b[0m\u001b[0;34m)\u001b[0m\u001b[0;34m\u001b[0m\u001b[0;34m\u001b[0m\u001b[0m\n\u001b[0m\u001b[1;32m     18\u001b[0m   \u001b[0mprint\u001b[0m\u001b[0;34m(\u001b[0m\u001b[0mresponse\u001b[0m\u001b[0;34m.\u001b[0m\u001b[0mtext\u001b[0m\u001b[0;34m)\u001b[0m\u001b[0;34m\u001b[0m\u001b[0;34m\u001b[0m\u001b[0m\n",
            "\u001b[0;32m/usr/local/lib/python3.10/dist-packages/google/generativeai/generative_models.py\u001b[0m in \u001b[0;36mgenerate_content\u001b[0;34m(self, contents, generation_config, safety_settings, stream, tools, request_options)\u001b[0m\n\u001b[1;32m    230\u001b[0m             \u001b[0;32mreturn\u001b[0m \u001b[0mgeneration_types\u001b[0m\u001b[0;34m.\u001b[0m\u001b[0mGenerateContentResponse\u001b[0m\u001b[0;34m.\u001b[0m\u001b[0mfrom_iterator\u001b[0m\u001b[0;34m(\u001b[0m\u001b[0miterator\u001b[0m\u001b[0;34m)\u001b[0m\u001b[0;34m\u001b[0m\u001b[0;34m\u001b[0m\u001b[0m\n\u001b[1;32m    231\u001b[0m         \u001b[0;32melse\u001b[0m\u001b[0;34m:\u001b[0m\u001b[0;34m\u001b[0m\u001b[0;34m\u001b[0m\u001b[0m\n\u001b[0;32m--> 232\u001b[0;31m             response = self._client.generate_content(\n\u001b[0m\u001b[1;32m    233\u001b[0m                 \u001b[0mrequest\u001b[0m\u001b[0;34m,\u001b[0m\u001b[0;34m\u001b[0m\u001b[0;34m\u001b[0m\u001b[0m\n\u001b[1;32m    234\u001b[0m                 \u001b[0;34m**\u001b[0m\u001b[0mrequest_options\u001b[0m\u001b[0;34m,\u001b[0m\u001b[0;34m\u001b[0m\u001b[0;34m\u001b[0m\u001b[0m\n",
            "\u001b[0;32m/usr/local/lib/python3.10/dist-packages/google/ai/generativelanguage_v1beta/services/generative_service/client.py\u001b[0m in \u001b[0;36mgenerate_content\u001b[0;34m(self, request, model, contents, retry, timeout, metadata)\u001b[0m\n\u001b[1;32m    564\u001b[0m \u001b[0;34m\u001b[0m\u001b[0m\n\u001b[1;32m    565\u001b[0m         \u001b[0;31m# Send the request.\u001b[0m\u001b[0;34m\u001b[0m\u001b[0;34m\u001b[0m\u001b[0m\n\u001b[0;32m--> 566\u001b[0;31m         response = rpc(\n\u001b[0m\u001b[1;32m    567\u001b[0m             \u001b[0mrequest\u001b[0m\u001b[0;34m,\u001b[0m\u001b[0;34m\u001b[0m\u001b[0;34m\u001b[0m\u001b[0m\n\u001b[1;32m    568\u001b[0m             \u001b[0mretry\u001b[0m\u001b[0;34m=\u001b[0m\u001b[0mretry\u001b[0m\u001b[0;34m,\u001b[0m\u001b[0;34m\u001b[0m\u001b[0;34m\u001b[0m\u001b[0m\n",
            "\u001b[0;32m/usr/local/lib/python3.10/dist-packages/google/api_core/gapic_v1/method.py\u001b[0m in \u001b[0;36m__call__\u001b[0;34m(self, timeout, retry, *args, **kwargs)\u001b[0m\n\u001b[1;32m    111\u001b[0m             \u001b[0mkwargs\u001b[0m\u001b[0;34m[\u001b[0m\u001b[0;34m\"metadata\"\u001b[0m\u001b[0;34m]\u001b[0m \u001b[0;34m=\u001b[0m \u001b[0mmetadata\u001b[0m\u001b[0;34m\u001b[0m\u001b[0;34m\u001b[0m\u001b[0m\n\u001b[1;32m    112\u001b[0m \u001b[0;34m\u001b[0m\u001b[0m\n\u001b[0;32m--> 113\u001b[0;31m         \u001b[0;32mreturn\u001b[0m \u001b[0mwrapped_func\u001b[0m\u001b[0;34m(\u001b[0m\u001b[0;34m*\u001b[0m\u001b[0margs\u001b[0m\u001b[0;34m,\u001b[0m \u001b[0;34m**\u001b[0m\u001b[0mkwargs\u001b[0m\u001b[0;34m)\u001b[0m\u001b[0;34m\u001b[0m\u001b[0;34m\u001b[0m\u001b[0m\n\u001b[0m\u001b[1;32m    114\u001b[0m \u001b[0;34m\u001b[0m\u001b[0m\n\u001b[1;32m    115\u001b[0m \u001b[0;34m\u001b[0m\u001b[0m\n",
            "\u001b[0;32m/usr/local/lib/python3.10/dist-packages/google/api_core/retry.py\u001b[0m in \u001b[0;36mretry_wrapped_func\u001b[0;34m(*args, **kwargs)\u001b[0m\n\u001b[1;32m    347\u001b[0m                 \u001b[0mself\u001b[0m\u001b[0;34m.\u001b[0m\u001b[0m_initial\u001b[0m\u001b[0;34m,\u001b[0m \u001b[0mself\u001b[0m\u001b[0;34m.\u001b[0m\u001b[0m_maximum\u001b[0m\u001b[0;34m,\u001b[0m \u001b[0mmultiplier\u001b[0m\u001b[0;34m=\u001b[0m\u001b[0mself\u001b[0m\u001b[0;34m.\u001b[0m\u001b[0m_multiplier\u001b[0m\u001b[0;34m\u001b[0m\u001b[0;34m\u001b[0m\u001b[0m\n\u001b[1;32m    348\u001b[0m             )\n\u001b[0;32m--> 349\u001b[0;31m             return retry_target(\n\u001b[0m\u001b[1;32m    350\u001b[0m                 \u001b[0mtarget\u001b[0m\u001b[0;34m,\u001b[0m\u001b[0;34m\u001b[0m\u001b[0;34m\u001b[0m\u001b[0m\n\u001b[1;32m    351\u001b[0m                 \u001b[0mself\u001b[0m\u001b[0;34m.\u001b[0m\u001b[0m_predicate\u001b[0m\u001b[0;34m,\u001b[0m\u001b[0;34m\u001b[0m\u001b[0;34m\u001b[0m\u001b[0m\n",
            "\u001b[0;32m/usr/local/lib/python3.10/dist-packages/google/api_core/retry.py\u001b[0m in \u001b[0;36mretry_target\u001b[0;34m(target, predicate, sleep_generator, timeout, on_error, **kwargs)\u001b[0m\n\u001b[1;32m    189\u001b[0m     \u001b[0;32mfor\u001b[0m \u001b[0msleep\u001b[0m \u001b[0;32min\u001b[0m \u001b[0msleep_generator\u001b[0m\u001b[0;34m:\u001b[0m\u001b[0;34m\u001b[0m\u001b[0;34m\u001b[0m\u001b[0m\n\u001b[1;32m    190\u001b[0m         \u001b[0;32mtry\u001b[0m\u001b[0;34m:\u001b[0m\u001b[0;34m\u001b[0m\u001b[0;34m\u001b[0m\u001b[0m\n\u001b[0;32m--> 191\u001b[0;31m             \u001b[0;32mreturn\u001b[0m \u001b[0mtarget\u001b[0m\u001b[0;34m(\u001b[0m\u001b[0;34m)\u001b[0m\u001b[0;34m\u001b[0m\u001b[0;34m\u001b[0m\u001b[0m\n\u001b[0m\u001b[1;32m    192\u001b[0m \u001b[0;34m\u001b[0m\u001b[0m\n\u001b[1;32m    193\u001b[0m         \u001b[0;31m# pylint: disable=broad-except\u001b[0m\u001b[0;34m\u001b[0m\u001b[0;34m\u001b[0m\u001b[0m\n",
            "\u001b[0;32m/usr/local/lib/python3.10/dist-packages/google/api_core/timeout.py\u001b[0m in \u001b[0;36mfunc_with_timeout\u001b[0;34m(*args, **kwargs)\u001b[0m\n\u001b[1;32m    118\u001b[0m                 \u001b[0mkwargs\u001b[0m\u001b[0;34m[\u001b[0m\u001b[0;34m\"timeout\"\u001b[0m\u001b[0;34m]\u001b[0m \u001b[0;34m=\u001b[0m \u001b[0mmax\u001b[0m\u001b[0;34m(\u001b[0m\u001b[0;36m0\u001b[0m\u001b[0;34m,\u001b[0m \u001b[0mself\u001b[0m\u001b[0;34m.\u001b[0m\u001b[0m_timeout\u001b[0m \u001b[0;34m-\u001b[0m \u001b[0mtime_since_first_attempt\u001b[0m\u001b[0;34m)\u001b[0m\u001b[0;34m\u001b[0m\u001b[0;34m\u001b[0m\u001b[0m\n\u001b[1;32m    119\u001b[0m \u001b[0;34m\u001b[0m\u001b[0m\n\u001b[0;32m--> 120\u001b[0;31m             \u001b[0;32mreturn\u001b[0m \u001b[0mfunc\u001b[0m\u001b[0;34m(\u001b[0m\u001b[0;34m*\u001b[0m\u001b[0margs\u001b[0m\u001b[0;34m,\u001b[0m \u001b[0;34m**\u001b[0m\u001b[0mkwargs\u001b[0m\u001b[0;34m)\u001b[0m\u001b[0;34m\u001b[0m\u001b[0;34m\u001b[0m\u001b[0m\n\u001b[0m\u001b[1;32m    121\u001b[0m \u001b[0;34m\u001b[0m\u001b[0m\n\u001b[1;32m    122\u001b[0m         \u001b[0;32mreturn\u001b[0m \u001b[0mfunc_with_timeout\u001b[0m\u001b[0;34m\u001b[0m\u001b[0;34m\u001b[0m\u001b[0m\n",
            "\u001b[0;32m/usr/local/lib/python3.10/dist-packages/google/api_core/grpc_helpers.py\u001b[0m in \u001b[0;36merror_remapped_callable\u001b[0;34m(*args, **kwargs)\u001b[0m\n\u001b[1;32m     70\u001b[0m     \u001b[0;32mdef\u001b[0m \u001b[0merror_remapped_callable\u001b[0m\u001b[0;34m(\u001b[0m\u001b[0;34m*\u001b[0m\u001b[0margs\u001b[0m\u001b[0;34m,\u001b[0m \u001b[0;34m**\u001b[0m\u001b[0mkwargs\u001b[0m\u001b[0;34m)\u001b[0m\u001b[0;34m:\u001b[0m\u001b[0;34m\u001b[0m\u001b[0;34m\u001b[0m\u001b[0m\n\u001b[1;32m     71\u001b[0m         \u001b[0;32mtry\u001b[0m\u001b[0;34m:\u001b[0m\u001b[0;34m\u001b[0m\u001b[0;34m\u001b[0m\u001b[0m\n\u001b[0;32m---> 72\u001b[0;31m             \u001b[0;32mreturn\u001b[0m \u001b[0mcallable_\u001b[0m\u001b[0;34m(\u001b[0m\u001b[0;34m*\u001b[0m\u001b[0margs\u001b[0m\u001b[0;34m,\u001b[0m \u001b[0;34m**\u001b[0m\u001b[0mkwargs\u001b[0m\u001b[0;34m)\u001b[0m\u001b[0;34m\u001b[0m\u001b[0;34m\u001b[0m\u001b[0m\n\u001b[0m\u001b[1;32m     73\u001b[0m         \u001b[0;32mexcept\u001b[0m \u001b[0mgrpc\u001b[0m\u001b[0;34m.\u001b[0m\u001b[0mRpcError\u001b[0m \u001b[0;32mas\u001b[0m \u001b[0mexc\u001b[0m\u001b[0;34m:\u001b[0m\u001b[0;34m\u001b[0m\u001b[0;34m\u001b[0m\u001b[0m\n\u001b[1;32m     74\u001b[0m             \u001b[0;32mraise\u001b[0m \u001b[0mexceptions\u001b[0m\u001b[0;34m.\u001b[0m\u001b[0mfrom_grpc_error\u001b[0m\u001b[0;34m(\u001b[0m\u001b[0mexc\u001b[0m\u001b[0;34m)\u001b[0m \u001b[0;32mfrom\u001b[0m \u001b[0mexc\u001b[0m\u001b[0;34m\u001b[0m\u001b[0;34m\u001b[0m\u001b[0m\n",
            "\u001b[0;32m/usr/local/lib/python3.10/dist-packages/google/ai/generativelanguage_v1beta/services/generative_service/transports/rest.py\u001b[0m in \u001b[0;36m__call__\u001b[0;34m(self, request, retry, timeout, metadata)\u001b[0m\n\u001b[1;32m    843\u001b[0m             \u001b[0mheaders\u001b[0m \u001b[0;34m=\u001b[0m \u001b[0mdict\u001b[0m\u001b[0;34m(\u001b[0m\u001b[0mmetadata\u001b[0m\u001b[0;34m)\u001b[0m\u001b[0;34m\u001b[0m\u001b[0;34m\u001b[0m\u001b[0m\n\u001b[1;32m    844\u001b[0m             \u001b[0mheaders\u001b[0m\u001b[0;34m[\u001b[0m\u001b[0;34m\"Content-Type\"\u001b[0m\u001b[0;34m]\u001b[0m \u001b[0;34m=\u001b[0m \u001b[0;34m\"application/json\"\u001b[0m\u001b[0;34m\u001b[0m\u001b[0;34m\u001b[0m\u001b[0m\n\u001b[0;32m--> 845\u001b[0;31m             response = getattr(self._session, method)(\n\u001b[0m\u001b[1;32m    846\u001b[0m                 \u001b[0;34m\"{host}{uri}\"\u001b[0m\u001b[0;34m.\u001b[0m\u001b[0mformat\u001b[0m\u001b[0;34m(\u001b[0m\u001b[0mhost\u001b[0m\u001b[0;34m=\u001b[0m\u001b[0mself\u001b[0m\u001b[0;34m.\u001b[0m\u001b[0m_host\u001b[0m\u001b[0;34m,\u001b[0m \u001b[0muri\u001b[0m\u001b[0;34m=\u001b[0m\u001b[0muri\u001b[0m\u001b[0;34m)\u001b[0m\u001b[0;34m,\u001b[0m\u001b[0;34m\u001b[0m\u001b[0;34m\u001b[0m\u001b[0m\n\u001b[1;32m    847\u001b[0m                 \u001b[0mtimeout\u001b[0m\u001b[0;34m=\u001b[0m\u001b[0mtimeout\u001b[0m\u001b[0;34m,\u001b[0m\u001b[0;34m\u001b[0m\u001b[0;34m\u001b[0m\u001b[0m\n",
            "\u001b[0;32m/usr/local/lib/python3.10/dist-packages/requests/sessions.py\u001b[0m in \u001b[0;36mpost\u001b[0;34m(self, url, data, json, **kwargs)\u001b[0m\n\u001b[1;32m    635\u001b[0m         \"\"\"\n\u001b[1;32m    636\u001b[0m \u001b[0;34m\u001b[0m\u001b[0m\n\u001b[0;32m--> 637\u001b[0;31m         \u001b[0;32mreturn\u001b[0m \u001b[0mself\u001b[0m\u001b[0;34m.\u001b[0m\u001b[0mrequest\u001b[0m\u001b[0;34m(\u001b[0m\u001b[0;34m\"POST\"\u001b[0m\u001b[0;34m,\u001b[0m \u001b[0murl\u001b[0m\u001b[0;34m,\u001b[0m \u001b[0mdata\u001b[0m\u001b[0;34m=\u001b[0m\u001b[0mdata\u001b[0m\u001b[0;34m,\u001b[0m \u001b[0mjson\u001b[0m\u001b[0;34m=\u001b[0m\u001b[0mjson\u001b[0m\u001b[0;34m,\u001b[0m \u001b[0;34m**\u001b[0m\u001b[0mkwargs\u001b[0m\u001b[0;34m)\u001b[0m\u001b[0;34m\u001b[0m\u001b[0;34m\u001b[0m\u001b[0m\n\u001b[0m\u001b[1;32m    638\u001b[0m \u001b[0;34m\u001b[0m\u001b[0m\n\u001b[1;32m    639\u001b[0m     \u001b[0;32mdef\u001b[0m \u001b[0mput\u001b[0m\u001b[0;34m(\u001b[0m\u001b[0mself\u001b[0m\u001b[0;34m,\u001b[0m \u001b[0murl\u001b[0m\u001b[0;34m,\u001b[0m \u001b[0mdata\u001b[0m\u001b[0;34m=\u001b[0m\u001b[0;32mNone\u001b[0m\u001b[0;34m,\u001b[0m \u001b[0;34m**\u001b[0m\u001b[0mkwargs\u001b[0m\u001b[0;34m)\u001b[0m\u001b[0;34m:\u001b[0m\u001b[0;34m\u001b[0m\u001b[0;34m\u001b[0m\u001b[0m\n",
            "\u001b[0;32m/usr/local/lib/python3.10/dist-packages/google/auth/transport/requests.py\u001b[0m in \u001b[0;36mrequest\u001b[0;34m(self, method, url, data, headers, max_allowed_time, timeout, **kwargs)\u001b[0m\n\u001b[1;32m    539\u001b[0m \u001b[0;34m\u001b[0m\u001b[0m\n\u001b[1;32m    540\u001b[0m         \u001b[0;32mwith\u001b[0m \u001b[0mTimeoutGuard\u001b[0m\u001b[0;34m(\u001b[0m\u001b[0mremaining_time\u001b[0m\u001b[0;34m)\u001b[0m \u001b[0;32mas\u001b[0m \u001b[0mguard\u001b[0m\u001b[0;34m:\u001b[0m\u001b[0;34m\u001b[0m\u001b[0;34m\u001b[0m\u001b[0m\n\u001b[0;32m--> 541\u001b[0;31m             response = super(AuthorizedSession, self).request(\n\u001b[0m\u001b[1;32m    542\u001b[0m                 \u001b[0mmethod\u001b[0m\u001b[0;34m,\u001b[0m\u001b[0;34m\u001b[0m\u001b[0;34m\u001b[0m\u001b[0m\n\u001b[1;32m    543\u001b[0m                 \u001b[0murl\u001b[0m\u001b[0;34m,\u001b[0m\u001b[0;34m\u001b[0m\u001b[0;34m\u001b[0m\u001b[0m\n",
            "\u001b[0;32m/usr/local/lib/python3.10/dist-packages/requests/sessions.py\u001b[0m in \u001b[0;36mrequest\u001b[0;34m(self, method, url, params, data, headers, cookies, files, auth, timeout, allow_redirects, proxies, hooks, stream, verify, cert, json)\u001b[0m\n\u001b[1;32m    587\u001b[0m         }\n\u001b[1;32m    588\u001b[0m         \u001b[0msend_kwargs\u001b[0m\u001b[0;34m.\u001b[0m\u001b[0mupdate\u001b[0m\u001b[0;34m(\u001b[0m\u001b[0msettings\u001b[0m\u001b[0;34m)\u001b[0m\u001b[0;34m\u001b[0m\u001b[0;34m\u001b[0m\u001b[0m\n\u001b[0;32m--> 589\u001b[0;31m         \u001b[0mresp\u001b[0m \u001b[0;34m=\u001b[0m \u001b[0mself\u001b[0m\u001b[0;34m.\u001b[0m\u001b[0msend\u001b[0m\u001b[0;34m(\u001b[0m\u001b[0mprep\u001b[0m\u001b[0;34m,\u001b[0m \u001b[0;34m**\u001b[0m\u001b[0msend_kwargs\u001b[0m\u001b[0;34m)\u001b[0m\u001b[0;34m\u001b[0m\u001b[0;34m\u001b[0m\u001b[0m\n\u001b[0m\u001b[1;32m    590\u001b[0m \u001b[0;34m\u001b[0m\u001b[0m\n\u001b[1;32m    591\u001b[0m         \u001b[0;32mreturn\u001b[0m \u001b[0mresp\u001b[0m\u001b[0;34m\u001b[0m\u001b[0;34m\u001b[0m\u001b[0m\n",
            "\u001b[0;32m/usr/local/lib/python3.10/dist-packages/requests/sessions.py\u001b[0m in \u001b[0;36msend\u001b[0;34m(self, request, **kwargs)\u001b[0m\n\u001b[1;32m    701\u001b[0m \u001b[0;34m\u001b[0m\u001b[0m\n\u001b[1;32m    702\u001b[0m         \u001b[0;31m# Send the request\u001b[0m\u001b[0;34m\u001b[0m\u001b[0;34m\u001b[0m\u001b[0m\n\u001b[0;32m--> 703\u001b[0;31m         \u001b[0mr\u001b[0m \u001b[0;34m=\u001b[0m \u001b[0madapter\u001b[0m\u001b[0;34m.\u001b[0m\u001b[0msend\u001b[0m\u001b[0;34m(\u001b[0m\u001b[0mrequest\u001b[0m\u001b[0;34m,\u001b[0m \u001b[0;34m**\u001b[0m\u001b[0mkwargs\u001b[0m\u001b[0;34m)\u001b[0m\u001b[0;34m\u001b[0m\u001b[0;34m\u001b[0m\u001b[0m\n\u001b[0m\u001b[1;32m    704\u001b[0m \u001b[0;34m\u001b[0m\u001b[0m\n\u001b[1;32m    705\u001b[0m         \u001b[0;31m# Total elapsed time of the request (approximately)\u001b[0m\u001b[0;34m\u001b[0m\u001b[0;34m\u001b[0m\u001b[0m\n",
            "\u001b[0;32m/usr/local/lib/python3.10/dist-packages/requests/adapters.py\u001b[0m in \u001b[0;36msend\u001b[0;34m(self, request, stream, timeout, verify, cert, proxies)\u001b[0m\n\u001b[1;32m    484\u001b[0m \u001b[0;34m\u001b[0m\u001b[0m\n\u001b[1;32m    485\u001b[0m         \u001b[0;32mtry\u001b[0m\u001b[0;34m:\u001b[0m\u001b[0;34m\u001b[0m\u001b[0;34m\u001b[0m\u001b[0m\n\u001b[0;32m--> 486\u001b[0;31m             resp = conn.urlopen(\n\u001b[0m\u001b[1;32m    487\u001b[0m                 \u001b[0mmethod\u001b[0m\u001b[0;34m=\u001b[0m\u001b[0mrequest\u001b[0m\u001b[0;34m.\u001b[0m\u001b[0mmethod\u001b[0m\u001b[0;34m,\u001b[0m\u001b[0;34m\u001b[0m\u001b[0;34m\u001b[0m\u001b[0m\n\u001b[1;32m    488\u001b[0m                 \u001b[0murl\u001b[0m\u001b[0;34m=\u001b[0m\u001b[0murl\u001b[0m\u001b[0;34m,\u001b[0m\u001b[0;34m\u001b[0m\u001b[0;34m\u001b[0m\u001b[0m\n",
            "\u001b[0;32m/usr/local/lib/python3.10/dist-packages/urllib3/connectionpool.py\u001b[0m in \u001b[0;36murlopen\u001b[0;34m(self, method, url, body, headers, retries, redirect, assert_same_host, timeout, pool_timeout, release_conn, chunked, body_pos, preload_content, decode_content, **response_kw)\u001b[0m\n\u001b[1;32m    789\u001b[0m \u001b[0;34m\u001b[0m\u001b[0m\n\u001b[1;32m    790\u001b[0m             \u001b[0;31m# Make the request on the HTTPConnection object\u001b[0m\u001b[0;34m\u001b[0m\u001b[0;34m\u001b[0m\u001b[0m\n\u001b[0;32m--> 791\u001b[0;31m             response = self._make_request(\n\u001b[0m\u001b[1;32m    792\u001b[0m                 \u001b[0mconn\u001b[0m\u001b[0;34m,\u001b[0m\u001b[0;34m\u001b[0m\u001b[0;34m\u001b[0m\u001b[0m\n\u001b[1;32m    793\u001b[0m                 \u001b[0mmethod\u001b[0m\u001b[0;34m,\u001b[0m\u001b[0;34m\u001b[0m\u001b[0;34m\u001b[0m\u001b[0m\n",
            "\u001b[0;32m/usr/local/lib/python3.10/dist-packages/urllib3/connectionpool.py\u001b[0m in \u001b[0;36m_make_request\u001b[0;34m(self, conn, method, url, body, headers, retries, timeout, chunked, response_conn, preload_content, decode_content, enforce_content_length)\u001b[0m\n\u001b[1;32m    535\u001b[0m         \u001b[0;31m# Receive the response from the server\u001b[0m\u001b[0;34m\u001b[0m\u001b[0;34m\u001b[0m\u001b[0m\n\u001b[1;32m    536\u001b[0m         \u001b[0;32mtry\u001b[0m\u001b[0;34m:\u001b[0m\u001b[0;34m\u001b[0m\u001b[0;34m\u001b[0m\u001b[0m\n\u001b[0;32m--> 537\u001b[0;31m             \u001b[0mresponse\u001b[0m \u001b[0;34m=\u001b[0m \u001b[0mconn\u001b[0m\u001b[0;34m.\u001b[0m\u001b[0mgetresponse\u001b[0m\u001b[0;34m(\u001b[0m\u001b[0;34m)\u001b[0m\u001b[0;34m\u001b[0m\u001b[0;34m\u001b[0m\u001b[0m\n\u001b[0m\u001b[1;32m    538\u001b[0m         \u001b[0;32mexcept\u001b[0m \u001b[0;34m(\u001b[0m\u001b[0mBaseSSLError\u001b[0m\u001b[0;34m,\u001b[0m \u001b[0mOSError\u001b[0m\u001b[0;34m)\u001b[0m \u001b[0;32mas\u001b[0m \u001b[0me\u001b[0m\u001b[0;34m:\u001b[0m\u001b[0;34m\u001b[0m\u001b[0;34m\u001b[0m\u001b[0m\n\u001b[1;32m    539\u001b[0m             \u001b[0mself\u001b[0m\u001b[0;34m.\u001b[0m\u001b[0m_raise_timeout\u001b[0m\u001b[0;34m(\u001b[0m\u001b[0merr\u001b[0m\u001b[0;34m=\u001b[0m\u001b[0me\u001b[0m\u001b[0;34m,\u001b[0m \u001b[0murl\u001b[0m\u001b[0;34m=\u001b[0m\u001b[0murl\u001b[0m\u001b[0;34m,\u001b[0m \u001b[0mtimeout_value\u001b[0m\u001b[0;34m=\u001b[0m\u001b[0mread_timeout\u001b[0m\u001b[0;34m)\u001b[0m\u001b[0;34m\u001b[0m\u001b[0;34m\u001b[0m\u001b[0m\n",
            "\u001b[0;32m/usr/local/lib/python3.10/dist-packages/urllib3/connection.py\u001b[0m in \u001b[0;36mgetresponse\u001b[0;34m(self)\u001b[0m\n\u001b[1;32m    459\u001b[0m \u001b[0;34m\u001b[0m\u001b[0m\n\u001b[1;32m    460\u001b[0m         \u001b[0;31m# Get the response from http.client.HTTPConnection\u001b[0m\u001b[0;34m\u001b[0m\u001b[0;34m\u001b[0m\u001b[0m\n\u001b[0;32m--> 461\u001b[0;31m         \u001b[0mhttplib_response\u001b[0m \u001b[0;34m=\u001b[0m \u001b[0msuper\u001b[0m\u001b[0;34m(\u001b[0m\u001b[0;34m)\u001b[0m\u001b[0;34m.\u001b[0m\u001b[0mgetresponse\u001b[0m\u001b[0;34m(\u001b[0m\u001b[0;34m)\u001b[0m\u001b[0;34m\u001b[0m\u001b[0;34m\u001b[0m\u001b[0m\n\u001b[0m\u001b[1;32m    462\u001b[0m \u001b[0;34m\u001b[0m\u001b[0m\n\u001b[1;32m    463\u001b[0m         \u001b[0;32mtry\u001b[0m\u001b[0;34m:\u001b[0m\u001b[0;34m\u001b[0m\u001b[0;34m\u001b[0m\u001b[0m\n",
            "\u001b[0;32m/usr/lib/python3.10/http/client.py\u001b[0m in \u001b[0;36mgetresponse\u001b[0;34m(self)\u001b[0m\n\u001b[1;32m   1373\u001b[0m         \u001b[0;32mtry\u001b[0m\u001b[0;34m:\u001b[0m\u001b[0;34m\u001b[0m\u001b[0;34m\u001b[0m\u001b[0m\n\u001b[1;32m   1374\u001b[0m             \u001b[0;32mtry\u001b[0m\u001b[0;34m:\u001b[0m\u001b[0;34m\u001b[0m\u001b[0;34m\u001b[0m\u001b[0m\n\u001b[0;32m-> 1375\u001b[0;31m                 \u001b[0mresponse\u001b[0m\u001b[0;34m.\u001b[0m\u001b[0mbegin\u001b[0m\u001b[0;34m(\u001b[0m\u001b[0;34m)\u001b[0m\u001b[0;34m\u001b[0m\u001b[0;34m\u001b[0m\u001b[0m\n\u001b[0m\u001b[1;32m   1376\u001b[0m             \u001b[0;32mexcept\u001b[0m \u001b[0mConnectionError\u001b[0m\u001b[0;34m:\u001b[0m\u001b[0;34m\u001b[0m\u001b[0;34m\u001b[0m\u001b[0m\n\u001b[1;32m   1377\u001b[0m                 \u001b[0mself\u001b[0m\u001b[0;34m.\u001b[0m\u001b[0mclose\u001b[0m\u001b[0;34m(\u001b[0m\u001b[0;34m)\u001b[0m\u001b[0;34m\u001b[0m\u001b[0;34m\u001b[0m\u001b[0m\n",
            "\u001b[0;32m/usr/lib/python3.10/http/client.py\u001b[0m in \u001b[0;36mbegin\u001b[0;34m(self)\u001b[0m\n\u001b[1;32m    316\u001b[0m         \u001b[0;31m# read until we get a non-100 response\u001b[0m\u001b[0;34m\u001b[0m\u001b[0;34m\u001b[0m\u001b[0m\n\u001b[1;32m    317\u001b[0m         \u001b[0;32mwhile\u001b[0m \u001b[0;32mTrue\u001b[0m\u001b[0;34m:\u001b[0m\u001b[0;34m\u001b[0m\u001b[0;34m\u001b[0m\u001b[0m\n\u001b[0;32m--> 318\u001b[0;31m             \u001b[0mversion\u001b[0m\u001b[0;34m,\u001b[0m \u001b[0mstatus\u001b[0m\u001b[0;34m,\u001b[0m \u001b[0mreason\u001b[0m \u001b[0;34m=\u001b[0m \u001b[0mself\u001b[0m\u001b[0;34m.\u001b[0m\u001b[0m_read_status\u001b[0m\u001b[0;34m(\u001b[0m\u001b[0;34m)\u001b[0m\u001b[0;34m\u001b[0m\u001b[0;34m\u001b[0m\u001b[0m\n\u001b[0m\u001b[1;32m    319\u001b[0m             \u001b[0;32mif\u001b[0m \u001b[0mstatus\u001b[0m \u001b[0;34m!=\u001b[0m \u001b[0mCONTINUE\u001b[0m\u001b[0;34m:\u001b[0m\u001b[0;34m\u001b[0m\u001b[0;34m\u001b[0m\u001b[0m\n\u001b[1;32m    320\u001b[0m                 \u001b[0;32mbreak\u001b[0m\u001b[0;34m\u001b[0m\u001b[0;34m\u001b[0m\u001b[0m\n",
            "\u001b[0;32m/usr/lib/python3.10/http/client.py\u001b[0m in \u001b[0;36m_read_status\u001b[0;34m(self)\u001b[0m\n\u001b[1;32m    277\u001b[0m \u001b[0;34m\u001b[0m\u001b[0m\n\u001b[1;32m    278\u001b[0m     \u001b[0;32mdef\u001b[0m \u001b[0m_read_status\u001b[0m\u001b[0;34m(\u001b[0m\u001b[0mself\u001b[0m\u001b[0;34m)\u001b[0m\u001b[0;34m:\u001b[0m\u001b[0;34m\u001b[0m\u001b[0;34m\u001b[0m\u001b[0m\n\u001b[0;32m--> 279\u001b[0;31m         \u001b[0mline\u001b[0m \u001b[0;34m=\u001b[0m \u001b[0mstr\u001b[0m\u001b[0;34m(\u001b[0m\u001b[0mself\u001b[0m\u001b[0;34m.\u001b[0m\u001b[0mfp\u001b[0m\u001b[0;34m.\u001b[0m\u001b[0mreadline\u001b[0m\u001b[0;34m(\u001b[0m\u001b[0m_MAXLINE\u001b[0m \u001b[0;34m+\u001b[0m \u001b[0;36m1\u001b[0m\u001b[0;34m)\u001b[0m\u001b[0;34m,\u001b[0m \u001b[0;34m\"iso-8859-1\"\u001b[0m\u001b[0;34m)\u001b[0m\u001b[0;34m\u001b[0m\u001b[0;34m\u001b[0m\u001b[0m\n\u001b[0m\u001b[1;32m    280\u001b[0m         \u001b[0;32mif\u001b[0m \u001b[0mlen\u001b[0m\u001b[0;34m(\u001b[0m\u001b[0mline\u001b[0m\u001b[0;34m)\u001b[0m \u001b[0;34m>\u001b[0m \u001b[0m_MAXLINE\u001b[0m\u001b[0;34m:\u001b[0m\u001b[0;34m\u001b[0m\u001b[0;34m\u001b[0m\u001b[0m\n\u001b[1;32m    281\u001b[0m             \u001b[0;32mraise\u001b[0m \u001b[0mLineTooLong\u001b[0m\u001b[0;34m(\u001b[0m\u001b[0;34m\"status line\"\u001b[0m\u001b[0;34m)\u001b[0m\u001b[0;34m\u001b[0m\u001b[0;34m\u001b[0m\u001b[0m\n",
            "\u001b[0;32m/usr/lib/python3.10/socket.py\u001b[0m in \u001b[0;36mreadinto\u001b[0;34m(self, b)\u001b[0m\n\u001b[1;32m    703\u001b[0m         \u001b[0;32mwhile\u001b[0m \u001b[0;32mTrue\u001b[0m\u001b[0;34m:\u001b[0m\u001b[0;34m\u001b[0m\u001b[0;34m\u001b[0m\u001b[0m\n\u001b[1;32m    704\u001b[0m             \u001b[0;32mtry\u001b[0m\u001b[0;34m:\u001b[0m\u001b[0;34m\u001b[0m\u001b[0;34m\u001b[0m\u001b[0m\n\u001b[0;32m--> 705\u001b[0;31m                 \u001b[0;32mreturn\u001b[0m \u001b[0mself\u001b[0m\u001b[0;34m.\u001b[0m\u001b[0m_sock\u001b[0m\u001b[0;34m.\u001b[0m\u001b[0mrecv_into\u001b[0m\u001b[0;34m(\u001b[0m\u001b[0mb\u001b[0m\u001b[0;34m)\u001b[0m\u001b[0;34m\u001b[0m\u001b[0;34m\u001b[0m\u001b[0m\n\u001b[0m\u001b[1;32m    706\u001b[0m             \u001b[0;32mexcept\u001b[0m \u001b[0mtimeout\u001b[0m\u001b[0;34m:\u001b[0m\u001b[0;34m\u001b[0m\u001b[0;34m\u001b[0m\u001b[0m\n\u001b[1;32m    707\u001b[0m                 \u001b[0mself\u001b[0m\u001b[0;34m.\u001b[0m\u001b[0m_timeout_occurred\u001b[0m \u001b[0;34m=\u001b[0m \u001b[0;32mTrue\u001b[0m\u001b[0;34m\u001b[0m\u001b[0;34m\u001b[0m\u001b[0m\n",
            "\u001b[0;31mKeyboardInterrupt\u001b[0m: "
          ]
        }
      ]
    }
  ]
}